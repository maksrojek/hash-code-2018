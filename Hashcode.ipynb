{
 "cells": [
  {
   "cell_type": "code",
   "execution_count": 451,
   "metadata": {},
   "outputs": [],
   "source": [
    "import numpy as np\n",
    "import math as m\n",
    "from collections import defaultdict"
   ]
  },
  {
   "cell_type": "code",
   "execution_count": 454,
   "metadata": {},
   "outputs": [],
   "source": [
    "class Point:\n",
    "    __slots__ = 'x', 'y'\n",
    "    \n",
    "    def __init__(self, x, y):\n",
    "        self.x = x\n",
    "        self.y = y\n",
    "        \n",
    "    def __str__(self):\n",
    "        return \"{\" + str(self.x) + \",\" + str(self.y) + \"}\"\n",
    "    \n",
    "    def __repr__(self):\n",
    "        return self.__str__()\n",
    "    \n",
    "    def dist(self, other):\n",
    "        return abs(self.x-other.x)+abs(self.y-other.y)\n",
    "\n",
    "class Ride:\n",
    "    __slots__ = 'index', 'start', 'end', 'start_time', 'end_time', 'len', 'taken'\n",
    "    \n",
    "    def __init__(self, index, start, end, start_time, end_time):\n",
    "        self.index = index\n",
    "        self.start = Point(start[0], start[1])\n",
    "        self.end = Point(end[0], end[1])\n",
    "        self.start_time = start_time\n",
    "        self.end_time = end_time\n",
    "        self.len = self.start.dist(self.end)\n",
    "        self.taken = False\n",
    "        \n",
    "    def can_finish_in_time(self, vehicle, time):\n",
    "        distance = vehicle.position.dist(self.start) + self.len\n",
    "        return time + distance <= self.end_time \n",
    "    \n",
    "    def __str__(self):\n",
    "        return \"Ride number {}\".format(self.index)\n",
    "    \n",
    "    def __repr__(self):\n",
    "        return \"{}| {}({})->{}({}) = {}\".format(self.index, self.start, self.start_time, self.end, self.end_time, self.len)\n",
    "\n",
    "    \n",
    "class Vehicle:\n",
    "    __slots__ = 'index', 'position', 'routes', 'time'\n",
    "        \n",
    "    def __init__(self, index):\n",
    "        self.index = index\n",
    "        self.position = Point(0, 0)\n",
    "        self.time = 0\n",
    "        self.routes = []\n",
    "\n",
    "        \n",
    "    def take_the_best_route(self, rides, max_time, bonus):\n",
    "        if self.time >= max_time:\n",
    "            return False\n",
    "        \n",
    "        max_score = None\n",
    "        the_best_end_time = 0\n",
    "        index = -1\n",
    "        for i, ride in enumerate(rides):\n",
    "            if ride.taken or not ride.can_finish_in_time(self, self.time):\n",
    "                continue\n",
    "            \n",
    "            distance = ride.start.dist(self.position)\n",
    "            start_time = max(ride.start_time, self.time+distance)\n",
    "            end_time = start_time + ride.len\n",
    "            waiting_time = start_time - self.time\n",
    "            score = 0.005*ride.len - 2*waiting_time - distance \n",
    "#             if start_time == ride.start_time:\n",
    "#                 score += bonus\n",
    "            \n",
    "            if max_score is None or score > max_score: # The best found\n",
    "                max_score = score\n",
    "                the_best_end_time = end_time\n",
    "                index = i\n",
    "                \n",
    "        if index != -1:\n",
    "            chosen = rides[index]\n",
    "            self.routes.append(chosen.index)\n",
    "            self.position = chosen.end\n",
    "            self.time = the_best_end_time\n",
    "            \n",
    "            chosen.taken = True\n",
    "            return True\n",
    "        \n",
    "        return False"
   ]
  },
  {
   "cell_type": "code",
   "execution_count": 455,
   "metadata": {},
   "outputs": [],
   "source": [
    "names = [\n",
    "    'a_example',\n",
    "    'b_should_be_easy',\n",
    "    'c_no_hurry',\n",
    "    'd_metropolis',\n",
    "    'e_high_bonus'\n",
    "]\n",
    "file_name = names[3]"
   ]
  },
  {
   "cell_type": "code",
   "execution_count": 456,
   "metadata": {},
   "outputs": [],
   "source": [
    "def load_input_file(fileName):\n",
    "    with open(fileName) as f:\n",
    "        settings = [int(i) for i in f.readline().split()]\n",
    "        input_data = []\n",
    "        for line in f:\n",
    "            input_data.append([int(x) for x in (line[:-1].split(' '))])\n",
    "        ret = []\n",
    "        for i, l in enumerate(input_data):\n",
    "            ret.append(Ride(i, (l[0], l[1]), (l[2], l[3]), l[4], l[5]))\n",
    "\n",
    "        ret_s = {\n",
    "            'rows': settings[0],\n",
    "            'cols': settings[1],\n",
    "            'vehicles': settings[2],\n",
    "            'rides': settings[3],\n",
    "            'bonus': settings[4],\n",
    "            'steps': settings[5]\n",
    "        }\n",
    "        return ret_s, ret\n",
    "   \n",
    "settings, rides = load_input_file(file_name + '.in')"
   ]
  },
  {
   "cell_type": "code",
   "execution_count": 457,
   "metadata": {},
   "outputs": [],
   "source": [
    "vehicles = [Vehicle(i) for i in range(settings['vehicles'])]"
   ]
  },
  {
   "cell_type": "code",
   "execution_count": 458,
   "metadata": {},
   "outputs": [],
   "source": [
    "time = settings['steps']\n",
    "for vehicle in vehicles:\n",
    "    while vehicle.take_the_best_route(rides, time, settings['bonus']):\n",
    "        pass"
   ]
  },
  {
   "cell_type": "code",
   "execution_count": 459,
   "metadata": {
    "scrolled": true
   },
   "outputs": [],
   "source": [
    "with open(file_name + '.out', \"w\") as text_file:\n",
    "    for vehicle in vehicles:\n",
    "        rides = \" \".join([str(r) for r in vehicle.routes])\n",
    "        line = \"{} {}\\n\".format(len(vehicle.routes), rides)\n",
    "        text_file.write(line)"
   ]
  }
 ],
 "metadata": {
  "kernelspec": {
   "display_name": "Python 3",
   "language": "python",
   "name": "python3"
  },
  "language_info": {
   "codemirror_mode": {
    "name": "ipython",
    "version": 3
   },
   "file_extension": ".py",
   "mimetype": "text/x-python",
   "name": "python",
   "nbconvert_exporter": "python",
   "pygments_lexer": "ipython3",
   "version": "3.6.3"
  }
 },
 "nbformat": 4,
 "nbformat_minor": 2
}
